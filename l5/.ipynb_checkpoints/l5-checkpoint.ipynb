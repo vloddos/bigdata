{
 "cells": [
  {
   "cell_type": "code",
   "execution_count": 1,
   "metadata": {
    "colab": {
     "base_uri": "https://localhost:8080/",
     "height": 123
    },
    "colab_type": "code",
    "executionInfo": {
     "elapsed": 42319,
     "status": "ok",
     "timestamp": 1557990904365,
     "user": {
      "displayName": "Юрий Колот",
      "photoUrl": "",
      "userId": "04640961646952925242"
     },
     "user_tz": -600
    },
    "id": "uYZ2xws7nzUv",
    "outputId": "442a546a-2b2b-4b1e-a1f4-7151f7030f1e"
   },
   "outputs": [],
   "source": [
    "# # грузим помощника google drive\n",
    "# from google.colab import drive\n",
    "\n",
    "# # эта строка попросит авторизироваться\n",
    "# drive.mount('/content/drive')"
   ]
  },
  {
   "cell_type": "code",
   "execution_count": 2,
   "metadata": {
    "colab": {},
    "colab_type": "code",
    "id": "UjoHnvW_n1xE"
   },
   "outputs": [],
   "source": [
    "# #путь до папки с лабораторной\n",
    "# prefix='/content/drive/My Drive/b8303b-lab5/'"
   ]
  },
  {
   "cell_type": "markdown",
   "metadata": {
    "colab_type": "text",
    "id": "1cjPSfTRnw_M"
   },
   "source": [
    "# Исторические данные о президентах стран\n",
    "\n",
    "Набор данных «Правители, выборы и нерегулярное управление» (REIGN) описывает политические условия в каждой стране каждый месяц. Эти условия включают срок полномочий и личные характеристики мировых лидеров, типы политических институтов и действующих политических режимов, результаты выборов и объявления о выборах, а также нерегулярные события, такие как перевороты, попытки переворота и другие насильственные конфликты ». Последний набор данных охватывает 200 стран, с 1950 года по настоящее время, и включает в себя десятки переменных для каждого ежемесячного снимка.\n",
    "\n",
    "Данные взяты [отсюда](https://oefresearch.org/datasets/reign). Описание всех полей в оригинале можно найти [тут](https://cdn.rawgit.com/OEFDataScience/REIGN.github.io/gh-pages/documents/reign_codebook.pdf).\n",
    "\n",
    "*Дисклеймер. Информация предоставлена исключительно в целях обучения студентов работе с большими наборами данных. Содержание файлов не несет в себе никакой смысловой нагрузки и не преследует никаких политиечских целей. Ответственность за содержимое несут исключительно авторы сайта oefresearch.org.*\n",
    "\n",
    "Поля, описывающие данные (Внимание!! Представлен приблизительный перевод. Оригинал можно найти в [документации](https://cdn.rawgit.com/OEFDataScience/REIGN.github.io/gh-pages/documents/reign_codebook.pdf)):\n",
    "\n",
    "* `ccode` - число от 1 до 3 символов - уникальный ИД одной из 201 рассмотренных стран\n",
    "* `country` - название страны\n",
    "* `leader` - имя / фамилия лидера\n",
    "* `year` - календарный год от 1950 до 2019\n",
    "* `month` - месяц, число от 1 до 12\n",
    "* `elected` - 1 для даты, когда проходили выборы президента, иначе 0\n",
    "* `age` - возраст президента\n",
    "* `male` - 1 если мужчина, 0 если женщина\n",
    "* `militarycareer` - 1 если правитель в истории своей карьеры работал в силовых структурах (армия, полиция, спецслужбы, ...)\n",
    "* `tenure_months` - количество месяцев сколько человек у власти\n",
    "* `government` - один из 16 типов правления. \n",
    "    * Presidential Democracy - демократия, при которой основными полномочиями наделен президент\n",
    "    * Parliamentary Democracy - демократия, при которой парламент более полномочен чем президент\n",
    "    * Personalist Systems - власть в руках одного человека - не монарха\n",
    "    * Monarchies - монархия\n",
    "    * Single-Party Systems - власть принадлежит одной пардити.\n",
    "    * Oligarchies - Власть принадлежит одному человеку, либо партии, в которой этот человек стоит во главе. Человек представляет интересы элиты.\n",
    "    * Party-Personalist Hybrids - среднее между партией и диктаторством, когда власть принадлежит партии, но полностью подконтрольной одному человеку\n",
    "    * Military Juntas - во главе стоит военный, но его действия проверяются другими военными службами\n",
    "    * Indirect Military Juntas - по факту власть принадлежит военным, но по факту ими правят гражданские лица\n",
    "    * Personalist-Military Hybrids - смесь военной и диктаторской системы\n",
    "    * Party-Military Hybrids - смесь военной и партийной власти\n",
    "    * Party-Personalist-Military Hybrids - смесь диктаторской и партийной власти\n",
    "    * Warlordism - для стран, в которых военное положение разрушило основную форму правления.\n",
    "    * Foreign-Occupied - когда зарубежные силы захватывают власть\n",
    "    * Civilian Provisional или Military Provisional - временные режимы правления, которые закрепляются в стране на время перехода к демократии (обычно) либо следуют за переворотами и конституционными кризисами.\n",
    "* `anticipation` - ожидание. Значение равно 1 если в течение следующих шести месяцев ожидаются перевыборы. Для тех стран, где выборы происходят не через регулярные промежутки времени\n",
    "* `ref_ant` - 1 если в течение следующих 6 месяцев ожидается референдум\n",
    "* `leg_ant` - 1 если в течение следующих 6 месяцев ожидаются выборы, предписанные основным законом страны\n",
    "* `exec_ant` - 1 если в течение следующих 6 месяцев ожидаются квалификационные выборы\n",
    "* `irreg_lead_ant` - 1 если в течение следующих нескольких месяцев ожидаются внеочередные выборы\n",
    "* `election_now` - 1 если выборы проходят в текущем месяце\n",
    "* `election_recent` - 1 если выборы прошли менее 6 месяцев назад\n",
    "* `leg_recent`, `exec_recent`, `lead_recent`, `ref_recent`, `direct_recent`, `indirect_recent` - 1 устанавливается в течение 6 месяцев после выборов разных типов власти \n",
    "* `victory_recent` - 1 в течение 6 месяцев после повторной победы правящей патии либо лидера\n",
    "* `defeat_recent` - 1 в течение 6 месяцев после поражения правящей патии либо лидера (если сменилось правление)\n",
    "* `change_recent` - 1 в течение 6 месяцев после выборов, которые повлекли за собой смену власти\n",
    "* `nochange_recent` - 1 в течение 6 месяцев после выборов, которые не повлекли за собой смену власти\n",
    "* `delayed` - 1 следующие 6 месяцев после выборов, которые были отменены либо задержаны на два или более месяца\n",
    "* `lastelection` - количество месяцев с момента последних прошедших отборов (выборы на высшую должность или референдум, который расширит исполнительную власть), или, в отсутствие предыдущих выборов, количество месяцев с момента последнего изменения политической системы.\n",
    "* `loss` - это количество месяцев с момента, когда действующая политическая партия или лидер в последний раз проиграли выборы или, в отсутствие предыдущих потерь, количество месяцев с момента последнего изменения политической системы\n",
    "* `irregular` - аналогично loss, но с момента последнего переворота в стране\n",
    "* `prev_conflict` - \n",
    "* `pt_suc` - 1 если в этом месяце произошел успешный переворот с лидером\n",
    "* `pt_attempt` - 1 если в этом месяце произошла попытка переворота против лидера\n",
    "* `precip` - (нет в документации)\n",
    "* `couprisk` - риск переворота в стране в текущем месяце\n",
    "* `pctile_risk` - тот же риск, в процентах"
   ]
  },
  {
   "cell_type": "code",
   "execution_count": 3,
   "metadata": {},
   "outputs": [],
   "source": [
    "import numpy as np"
   ]
  },
  {
   "cell_type": "code",
   "execution_count": 4,
   "metadata": {
    "colab": {
     "base_uri": "https://localhost:8080/",
     "height": 433
    },
    "colab_type": "code",
    "executionInfo": {
     "elapsed": 861,
     "status": "error",
     "timestamp": 1557991476193,
     "user": {
      "displayName": "Юрий Колот",
      "photoUrl": "",
      "userId": "04640961646952925242"
     },
     "user_tz": -600
    },
    "id": "-bLlVQdenw_R",
    "outputId": "b31944f0-1061-46ad-f087-445b7f20e9a6",
    "scrolled": true
   },
   "outputs": [],
   "source": [
    "import pandas as pd\n",
    "# pd.set_option('display.max_rows', 5000)\n",
    "pd.set_option('display.max_columns', 38)\n",
    "df = pd.read_csv(r'C:\\Users\\User\\Desktop\\REIGN_2019_4.csv')"
   ]
  },
  {
   "cell_type": "code",
   "execution_count": 5,
   "metadata": {
    "colab": {},
    "colab_type": "code",
    "id": "JNMfz_1vnw_i"
   },
   "outputs": [
    {
     "data": {
      "text/plain": [
       "(133161, 38)"
      ]
     },
     "execution_count": 5,
     "metadata": {},
     "output_type": "execute_result"
    }
   ],
   "source": [
    "df.shape"
   ]
  },
  {
   "cell_type": "code",
   "execution_count": 6,
   "metadata": {
    "colab": {},
    "colab_type": "code",
    "id": "tFDIbe-wnw_r"
   },
   "outputs": [
    {
     "data": {
      "text/html": [
       "<div>\n",
       "<style scoped>\n",
       "    .dataframe tbody tr th:only-of-type {\n",
       "        vertical-align: middle;\n",
       "    }\n",
       "\n",
       "    .dataframe tbody tr th {\n",
       "        vertical-align: top;\n",
       "    }\n",
       "\n",
       "    .dataframe thead th {\n",
       "        text-align: right;\n",
       "    }\n",
       "</style>\n",
       "<table border=\"1\" class=\"dataframe\">\n",
       "  <thead>\n",
       "    <tr style=\"text-align: right;\">\n",
       "      <th></th>\n",
       "      <th>0</th>\n",
       "      <th>1</th>\n",
       "      <th>2</th>\n",
       "    </tr>\n",
       "  </thead>\n",
       "  <tbody>\n",
       "    <tr>\n",
       "      <th>ccode</th>\n",
       "      <td>2</td>\n",
       "      <td>2</td>\n",
       "      <td>2</td>\n",
       "    </tr>\n",
       "    <tr>\n",
       "      <th>country</th>\n",
       "      <td>USA</td>\n",
       "      <td>USA</td>\n",
       "      <td>USA</td>\n",
       "    </tr>\n",
       "    <tr>\n",
       "      <th>leader</th>\n",
       "      <td>Truman</td>\n",
       "      <td>Truman</td>\n",
       "      <td>Truman</td>\n",
       "    </tr>\n",
       "    <tr>\n",
       "      <th>year</th>\n",
       "      <td>1950</td>\n",
       "      <td>1950</td>\n",
       "      <td>1950</td>\n",
       "    </tr>\n",
       "    <tr>\n",
       "      <th>month</th>\n",
       "      <td>1</td>\n",
       "      <td>2</td>\n",
       "      <td>3</td>\n",
       "    </tr>\n",
       "    <tr>\n",
       "      <th>elected</th>\n",
       "      <td>1</td>\n",
       "      <td>1</td>\n",
       "      <td>1</td>\n",
       "    </tr>\n",
       "    <tr>\n",
       "      <th>age</th>\n",
       "      <td>66</td>\n",
       "      <td>66</td>\n",
       "      <td>66</td>\n",
       "    </tr>\n",
       "    <tr>\n",
       "      <th>male</th>\n",
       "      <td>1</td>\n",
       "      <td>1</td>\n",
       "      <td>1</td>\n",
       "    </tr>\n",
       "    <tr>\n",
       "      <th>militarycareer</th>\n",
       "      <td>0</td>\n",
       "      <td>0</td>\n",
       "      <td>0</td>\n",
       "    </tr>\n",
       "    <tr>\n",
       "      <th>tenure_months</th>\n",
       "      <td>58</td>\n",
       "      <td>59</td>\n",
       "      <td>60</td>\n",
       "    </tr>\n",
       "    <tr>\n",
       "      <th>government</th>\n",
       "      <td>Presidential Democracy</td>\n",
       "      <td>Presidential Democracy</td>\n",
       "      <td>Presidential Democracy</td>\n",
       "    </tr>\n",
       "    <tr>\n",
       "      <th>anticipation</th>\n",
       "      <td>0</td>\n",
       "      <td>0</td>\n",
       "      <td>0</td>\n",
       "    </tr>\n",
       "    <tr>\n",
       "      <th>ref_ant</th>\n",
       "      <td>0</td>\n",
       "      <td>0</td>\n",
       "      <td>0</td>\n",
       "    </tr>\n",
       "    <tr>\n",
       "      <th>leg_ant</th>\n",
       "      <td>0</td>\n",
       "      <td>0</td>\n",
       "      <td>0</td>\n",
       "    </tr>\n",
       "    <tr>\n",
       "      <th>exec_ant</th>\n",
       "      <td>0</td>\n",
       "      <td>0</td>\n",
       "      <td>0</td>\n",
       "    </tr>\n",
       "    <tr>\n",
       "      <th>irreg_lead_ant</th>\n",
       "      <td>0</td>\n",
       "      <td>0</td>\n",
       "      <td>0</td>\n",
       "    </tr>\n",
       "    <tr>\n",
       "      <th>election_now</th>\n",
       "      <td>0</td>\n",
       "      <td>0</td>\n",
       "      <td>0</td>\n",
       "    </tr>\n",
       "    <tr>\n",
       "      <th>election_recent</th>\n",
       "      <td>0</td>\n",
       "      <td>0</td>\n",
       "      <td>0</td>\n",
       "    </tr>\n",
       "    <tr>\n",
       "      <th>leg_recent</th>\n",
       "      <td>0</td>\n",
       "      <td>0</td>\n",
       "      <td>0</td>\n",
       "    </tr>\n",
       "    <tr>\n",
       "      <th>exec_recent</th>\n",
       "      <td>0</td>\n",
       "      <td>0</td>\n",
       "      <td>0</td>\n",
       "    </tr>\n",
       "    <tr>\n",
       "      <th>lead_recent</th>\n",
       "      <td>0</td>\n",
       "      <td>0</td>\n",
       "      <td>0</td>\n",
       "    </tr>\n",
       "    <tr>\n",
       "      <th>ref_recent</th>\n",
       "      <td>0</td>\n",
       "      <td>0</td>\n",
       "      <td>0</td>\n",
       "    </tr>\n",
       "    <tr>\n",
       "      <th>direct_recent</th>\n",
       "      <td>0</td>\n",
       "      <td>0</td>\n",
       "      <td>0</td>\n",
       "    </tr>\n",
       "    <tr>\n",
       "      <th>indirect_recent</th>\n",
       "      <td>0</td>\n",
       "      <td>0</td>\n",
       "      <td>0</td>\n",
       "    </tr>\n",
       "    <tr>\n",
       "      <th>victory_recent</th>\n",
       "      <td>0</td>\n",
       "      <td>0</td>\n",
       "      <td>0</td>\n",
       "    </tr>\n",
       "    <tr>\n",
       "      <th>defeat_recent</th>\n",
       "      <td>0</td>\n",
       "      <td>0</td>\n",
       "      <td>0</td>\n",
       "    </tr>\n",
       "    <tr>\n",
       "      <th>change_recent</th>\n",
       "      <td>0</td>\n",
       "      <td>0</td>\n",
       "      <td>0</td>\n",
       "    </tr>\n",
       "    <tr>\n",
       "      <th>nochange_recent</th>\n",
       "      <td>0</td>\n",
       "      <td>0</td>\n",
       "      <td>0</td>\n",
       "    </tr>\n",
       "    <tr>\n",
       "      <th>delayed</th>\n",
       "      <td>0</td>\n",
       "      <td>0</td>\n",
       "      <td>0</td>\n",
       "    </tr>\n",
       "    <tr>\n",
       "      <th>lastelection</th>\n",
       "      <td>2.63906</td>\n",
       "      <td>2.70805</td>\n",
       "      <td>2.77259</td>\n",
       "    </tr>\n",
       "    <tr>\n",
       "      <th>loss</th>\n",
       "      <td>5.32788</td>\n",
       "      <td>5.33272</td>\n",
       "      <td>5.33754</td>\n",
       "    </tr>\n",
       "    <tr>\n",
       "      <th>irregular</th>\n",
       "      <td>7.56579</td>\n",
       "      <td>7.56631</td>\n",
       "      <td>7.56683</td>\n",
       "    </tr>\n",
       "    <tr>\n",
       "      <th>prev_conflict</th>\n",
       "      <td>0</td>\n",
       "      <td>0</td>\n",
       "      <td>0</td>\n",
       "    </tr>\n",
       "    <tr>\n",
       "      <th>pt_suc</th>\n",
       "      <td>0</td>\n",
       "      <td>0</td>\n",
       "      <td>0</td>\n",
       "    </tr>\n",
       "    <tr>\n",
       "      <th>pt_attempt</th>\n",
       "      <td>0</td>\n",
       "      <td>0</td>\n",
       "      <td>0</td>\n",
       "    </tr>\n",
       "    <tr>\n",
       "      <th>precip</th>\n",
       "      <td>-0.0496472</td>\n",
       "      <td>-0.0936139</td>\n",
       "      <td>-0.0862327</td>\n",
       "    </tr>\n",
       "    <tr>\n",
       "      <th>couprisk</th>\n",
       "      <td>NaN</td>\n",
       "      <td>NaN</td>\n",
       "      <td>NaN</td>\n",
       "    </tr>\n",
       "    <tr>\n",
       "      <th>pctile_risk</th>\n",
       "      <td>NaN</td>\n",
       "      <td>NaN</td>\n",
       "      <td>NaN</td>\n",
       "    </tr>\n",
       "  </tbody>\n",
       "</table>\n",
       "</div>"
      ],
      "text/plain": [
       "                                      0                       1  \\\n",
       "ccode                                 2                       2   \n",
       "country                             USA                     USA   \n",
       "leader                           Truman                  Truman   \n",
       "year                               1950                    1950   \n",
       "month                                 1                       2   \n",
       "elected                               1                       1   \n",
       "age                                  66                      66   \n",
       "male                                  1                       1   \n",
       "militarycareer                        0                       0   \n",
       "tenure_months                        58                      59   \n",
       "government       Presidential Democracy  Presidential Democracy   \n",
       "anticipation                          0                       0   \n",
       "ref_ant                               0                       0   \n",
       "leg_ant                               0                       0   \n",
       "exec_ant                              0                       0   \n",
       "irreg_lead_ant                        0                       0   \n",
       "election_now                          0                       0   \n",
       "election_recent                       0                       0   \n",
       "leg_recent                            0                       0   \n",
       "exec_recent                           0                       0   \n",
       "lead_recent                           0                       0   \n",
       "ref_recent                            0                       0   \n",
       "direct_recent                         0                       0   \n",
       "indirect_recent                       0                       0   \n",
       "victory_recent                        0                       0   \n",
       "defeat_recent                         0                       0   \n",
       "change_recent                         0                       0   \n",
       "nochange_recent                       0                       0   \n",
       "delayed                               0                       0   \n",
       "lastelection                    2.63906                 2.70805   \n",
       "loss                            5.32788                 5.33272   \n",
       "irregular                       7.56579                 7.56631   \n",
       "prev_conflict                         0                       0   \n",
       "pt_suc                                0                       0   \n",
       "pt_attempt                            0                       0   \n",
       "precip                       -0.0496472              -0.0936139   \n",
       "couprisk                            NaN                     NaN   \n",
       "pctile_risk                         NaN                     NaN   \n",
       "\n",
       "                                      2  \n",
       "ccode                                 2  \n",
       "country                             USA  \n",
       "leader                           Truman  \n",
       "year                               1950  \n",
       "month                                 3  \n",
       "elected                               1  \n",
       "age                                  66  \n",
       "male                                  1  \n",
       "militarycareer                        0  \n",
       "tenure_months                        60  \n",
       "government       Presidential Democracy  \n",
       "anticipation                          0  \n",
       "ref_ant                               0  \n",
       "leg_ant                               0  \n",
       "exec_ant                              0  \n",
       "irreg_lead_ant                        0  \n",
       "election_now                          0  \n",
       "election_recent                       0  \n",
       "leg_recent                            0  \n",
       "exec_recent                           0  \n",
       "lead_recent                           0  \n",
       "ref_recent                            0  \n",
       "direct_recent                         0  \n",
       "indirect_recent                       0  \n",
       "victory_recent                        0  \n",
       "defeat_recent                         0  \n",
       "change_recent                         0  \n",
       "nochange_recent                       0  \n",
       "delayed                               0  \n",
       "lastelection                    2.77259  \n",
       "loss                            5.33754  \n",
       "irregular                       7.56683  \n",
       "prev_conflict                         0  \n",
       "pt_suc                                0  \n",
       "pt_attempt                            0  \n",
       "precip                       -0.0862327  \n",
       "couprisk                            NaN  \n",
       "pctile_risk                         NaN  "
      ]
     },
     "execution_count": 6,
     "metadata": {},
     "output_type": "execute_result"
    }
   ],
   "source": [
    "df.head(3).T"
   ]
  },
  {
   "cell_type": "markdown",
   "metadata": {
    "colab_type": "text",
    "id": "Lyq5KR17nw_w"
   },
   "source": [
    "#### 1. Сколько форм правления (government) представлено в наборе?"
   ]
  },
  {
   "cell_type": "code",
   "execution_count": 48,
   "metadata": {
    "colab": {},
    "colab_type": "code",
    "id": "8XUVCU5Onw_x"
   },
   "outputs": [
    {
     "data": {
      "text/plain": [
       "17"
      ]
     },
     "execution_count": 48,
     "metadata": {},
     "output_type": "execute_result"
    }
   ],
   "source": [
    "df.government.nunique()\n",
    "#лишняя форма? ' '"
   ]
  },
  {
   "cell_type": "markdown",
   "metadata": {
    "colab_type": "text",
    "id": "77V3gshgnw_1"
   },
   "source": [
    "#### 2. Каков средний возраст правителей? "
   ]
  },
  {
   "cell_type": "code",
   "execution_count": 49,
   "metadata": {
    "colab": {},
    "colab_type": "code",
    "id": "3voqdjYGnw_2"
   },
   "outputs": [
    {
     "data": {
      "text/plain": [
       "57.11693796876644"
      ]
     },
     "execution_count": 49,
     "metadata": {},
     "output_type": "execute_result"
    }
   ],
   "source": [
    "df.age.mean()"
   ]
  },
  {
   "cell_type": "markdown",
   "metadata": {
    "colab_type": "text",
    "id": "7ehCPd7Snw_5"
   },
   "source": [
    "#### 3. Процентное соотношение мужчин и женщин среди правителей (без учета срока правления)"
   ]
  },
  {
   "cell_type": "code",
   "execution_count": 25,
   "metadata": {
    "colab": {},
    "colab_type": "code",
    "id": "AkTJZjJPnw_6",
    "scrolled": true
   },
   "outputs": [
    {
     "name": "stdout",
     "output_type": "stream",
     "text": [
      "male=96.44%, female=3.56%\n"
     ]
    }
   ],
   "source": [
    "l=[j[1] for j in df.groupby(['leader','male']).indices]\n",
    "m=round(sum(l)/len(l),4)*100\n",
    "print(f'male={m}%, female={round(100-m,4)}%')"
   ]
  },
  {
   "cell_type": "markdown",
   "metadata": {
    "colab_type": "text",
    "id": "kU5P3UTQnw_9"
   },
   "source": [
    "#### 4. Процентное соотношение мужчин и женщин с учетом срока правления"
   ]
  },
  {
   "cell_type": "code",
   "execution_count": 81,
   "metadata": {
    "scrolled": false
   },
   "outputs": [],
   "source": [
    "tm=df.groupby('tenure_months').male.count()\n",
    "for i in tm.index:\n",
    "    m=round(df.query(f'tenure_months=={i} and male==1').shape[0]/tm[i],4)*100\n",
    "    print(f'tenure_months=={i} male={m}%, female={round(100-m,4)}%')"
   ]
  },
  {
   "cell_type": "raw",
   "metadata": {},
   "source": [
    "all_months=df.groupby(['leader','male'])['tenure_months','ccode'].max()\n",
    "months_leaders=all_months.groupby('tenure_months').count() # all_months.groupby('tenure_months').ccode.value_counts(dropna=False)\n",
    "*male_index,=filter(lambda i:1 in i,all_months.index)\n",
    "for i in months_leaders.index:\n",
    "    m=round(all_months[all_months.tenure_months==i].reindex(male_index).dropna().shape[0]/\\\n",
    "            months_leaders.loc[i].ccode,4)*100\n",
    "    print(f'tenure_months=={i} male={m}%, female={round(100-m,4)}%')"
   ]
  },
  {
   "cell_type": "markdown",
   "metadata": {
    "colab_type": "text",
    "id": "tChU-YtonxAH"
   },
   "source": [
    "#### 5. Каковы средние значения и среднеквадратичные отклонения правителей которые правят более 10 лет (120 месяцев) и менее 120 месяцев?"
   ]
  },
  {
   "cell_type": "code",
   "execution_count": 88,
   "metadata": {},
   "outputs": [
    {
     "name": "stdout",
     "output_type": "stream",
     "text": [
      "more 10 years: mean=229.73518284993696 std=100.25581838306074\n",
      "less 10 years: mean=40.542857971631065 std=31.682597543779817\n"
     ]
    }
   ],
   "source": [
    "m,l=df[df.tenure_months>120].tenure_months,df[df.tenure_months<120].tenure_months\n",
    "print(f'more 10 years: mean={m.mean()} std={m.std()}')\n",
    "print(f'less 10 years: mean={l.mean()} std={l.std()}')"
   ]
  },
  {
   "cell_type": "raw",
   "metadata": {
    "colab": {},
    "colab_type": "code",
    "id": "RgfYoDGNnxAJ"
   },
   "source": [
    "all_months=df.groupby(['leader','male']).tenure_months.max()\n",
    "m,l=all_months[all_months>120],all_months[all_months<120]\n",
    "print(f'more 10 years: mean={m.mean()} std={m.std()}')\n",
    "print(f'less 10 years: mean={l.mean()} std={l.std()}')"
   ]
  },
  {
   "cell_type": "markdown",
   "metadata": {
    "colab_type": "text",
    "id": "W98FTUtQnxAM"
   },
   "source": [
    "#### 6. Правда ли, что каждый 10 правитель (10% лидеров) оставались у власти более чем на 1 срок?"
   ]
  },
  {
   "cell_type": "code",
   "execution_count": 12,
   "metadata": {
    "colab": {},
    "colab_type": "code",
    "id": "C5o-iSO9nxAN"
   },
   "outputs": [],
   "source": [
    "# Ваш код здесь"
   ]
  },
  {
   "cell_type": "markdown",
   "metadata": {
    "colab_type": "text",
    "id": "t4b8AIUGnxAQ"
   },
   "source": [
    "#### 7. Выведите статистику возраста и пола для каждой из страны. Используйте groupby и describe. Найдите таким образом максимальный и минимальный возраст лидеров США."
   ]
  },
  {
   "cell_type": "code",
   "execution_count": 70,
   "metadata": {
    "scrolled": true
   },
   "outputs": [
    {
     "name": "stdout",
     "output_type": "stream",
     "text": [
      "44.0\n",
      "78.0\n"
     ]
    }
   ],
   "source": [
    "s=df.groupby('country')['age','male'].describe()\n",
    "print(s)\n",
    "print(s.loc['USA']['age','min'])\n",
    "print(s.loc['USA']['age','max'])"
   ]
  },
  {
   "cell_type": "raw",
   "metadata": {
    "colab": {},
    "colab_type": "code",
    "id": "katbBYSFnxAS"
   },
   "source": [
    "s=df.groupby(['country','male']).age.describe()\n",
    "print(s)\n",
    "print(pd.DataFrame(s.reindex([('USA',0),('USA',1)]))[['min','max']])"
   ]
  },
  {
   "cell_type": "markdown",
   "metadata": {
    "colab_type": "text",
    "id": "V172eP41nxAV"
   },
   "source": [
    "#### 8. Посчитайте среднегодовой риск переворота (couprisk) в стране для каждого лидера. Для кого и в каком году он был максимальным? А минимальным?"
   ]
  },
  {
   "cell_type": "code",
   "execution_count": 39,
   "metadata": {
    "colab": {},
    "colab_type": "code",
    "id": "zfX2GCUcnxAV",
    "scrolled": true
   },
   "outputs": [
    {
     "name": "stdout",
     "output_type": "stream",
     "text": [
      "leader         male  year  \n",
      "A. Nastase     1.0   2000.0    0.001078\n",
      "                     2001.0    0.000816\n",
      "                     2002.0    0.000587\n",
      "                     2003.0    0.000522\n",
      "                     2004.0    0.000812\n",
      "A. Papandreou  1.0   1981.0    0.002237\n",
      "                     1982.0    0.002225\n",
      "                     1983.0    0.002228\n",
      "                     1984.0    0.001560\n",
      "                     1985.0    0.001486\n",
      "                     1986.0    0.000623\n",
      "                     1987.0    0.000817\n",
      "                     1988.0    0.000937\n",
      "                     1989.0    0.001545\n",
      "                     1993.0    0.000878\n",
      "                     1994.0    0.000457\n",
      "                     1995.0    0.000558\n",
      "AL-Sallal      1.0   1962.0         NaN\n",
      "                     1963.0         NaN\n",
      "                     1964.0         NaN\n",
      "                     1965.0         NaN\n",
      "                     1966.0         NaN\n",
      "                     1967.0         NaN\n",
      "Abacha         1.0   1993.0    0.019020\n",
      "                     1994.0    0.009670\n",
      "                     1995.0    0.005867\n",
      "                     1996.0    0.009728\n",
      "                     1997.0    0.010266\n",
      "                     1998.0    0.013570\n",
      "Abbasi         1.0   2017.0    0.001112\n",
      "                                 ...   \n",
      "deKlerk        1.0   1994.0    0.004103\n",
      "den Uyl        1.0   1973.0         NaN\n",
      "                     1974.0         NaN\n",
      "                     1975.0    0.000304\n",
      "                     1976.0    0.000304\n",
      "                     1977.0    0.000208\n",
      "dit M'Bare     1.0   2009.0    0.019582\n",
      "do Rosario     1.0   2000.0    0.003493\n",
      "                     2001.0    0.003497\n",
      "el-Yachroutu   1.0   1995.0    0.024247\n",
      "                     1996.0    0.048524\n",
      "van Acker      1.0   1954.0         NaN\n",
      "                     1955.0         NaN\n",
      "                     1956.0         NaN\n",
      "                     1957.0         NaN\n",
      "                     1958.0         NaN\n",
      "van Agt        1.0   1977.0    0.000149\n",
      "                     1978.0    0.000173\n",
      "                     1979.0    0.000131\n",
      "                     1980.0    0.000161\n",
      "                     1981.0    0.000229\n",
      "                     1982.0    0.000183\n",
      "van Houtte     1.0   1952.0         NaN\n",
      "                     1953.0         NaN\n",
      "                     1954.0         NaN\n",
      "van Rompuy     1.0   2008.0    0.000149\n",
      "                     2009.0    0.000147\n",
      "von Moos       1.0   1964.0         NaN\n",
      "                     1969.0         NaN\n",
      "von Steiger    1.0   1951.0         NaN\n",
      "Name: couprisk, Length: 13199, dtype: float64\n",
      "('Vildoso Calderon', 1.0, 1982.0)\n",
      "('Maurizio Rattini (2nd time)', 1.0, 2012.0)\n"
     ]
    }
   ],
   "source": [
    "couprisk_year_mean=df.groupby(['leader','male','year']).couprisk.mean()\n",
    "print(couprisk_year_mean)\n",
    "print(couprisk_year_mean.idxmax())\n",
    "print(couprisk_year_mean.idxmin())"
   ]
  },
  {
   "cell_type": "markdown",
   "metadata": {
    "colab_type": "text",
    "id": "bItGJu3dnxAY"
   },
   "source": [
    "#### 9. При какой форме правления чаще всего проходили государственные перевороты? "
   ]
  },
  {
   "cell_type": "code",
   "execution_count": 47,
   "metadata": {},
   "outputs": [
    {
     "data": {
      "text/plain": [
       "('Presidential Democracy', 101.0)"
      ]
     },
     "execution_count": 47,
     "metadata": {},
     "output_type": "execute_result"
    }
   ],
   "source": [
    "df.query('pt_suc==1 or pt_attempt==1').groupby('government').ccode.value_counts(dropna=False).idxmax()"
   ]
  },
  {
   "cell_type": "raw",
   "metadata": {
    "colab": {},
    "colab_type": "code",
    "id": "L6pkdNX3nxAZ"
   },
   "source": [
    "df.query('pt_suc==1 or pt_attempt==1').groupby('government')['ccode'].count().idxmax()"
   ]
  },
  {
   "cell_type": "markdown",
   "metadata": {
    "colab_type": "text",
    "id": "IMVuLlgVnxAc"
   },
   "source": [
    "#### 10. Постройте корелляцию принадлежности президента к силовым структурам (militarycareer) y от формы правления (government) x. Для выполения сперва сгруппируйте данные по лидерам, потом используйте crosstab."
   ]
  },
  {
   "cell_type": "code",
   "execution_count": null,
   "metadata": {
    "colab": {},
    "colab_type": "code",
    "id": "ydg5Xk7NnxAc"
   },
   "outputs": [],
   "source": []
  }
 ],
 "metadata": {
  "colab": {
   "collapsed_sections": [],
   "name": "Копия task_REGIN.ipynb",
   "provenance": [],
   "toc_visible": true,
   "version": "0.3.2"
  },
  "kernelspec": {
   "display_name": "Python 3",
   "language": "python",
   "name": "python3"
  },
  "language_info": {
   "codemirror_mode": {
    "name": "ipython",
    "version": 3
   },
   "file_extension": ".py",
   "mimetype": "text/x-python",
   "name": "python",
   "nbconvert_exporter": "python",
   "pygments_lexer": "ipython3",
   "version": "3.7.0"
  }
 },
 "nbformat": 4,
 "nbformat_minor": 1
}
